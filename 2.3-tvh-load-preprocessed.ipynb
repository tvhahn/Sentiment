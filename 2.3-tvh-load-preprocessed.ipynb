{
 "cells": [
  {
   "cell_type": "code",
   "execution_count": 1,
   "metadata": {},
   "outputs": [
    {
     "name": "stderr",
     "output_type": "stream",
     "text": [
      "WARNING: Logging before flag parsing goes to stderr.\n",
      "W0412 09:30:17.571392 140365206058816 __init__.py:56] Some hub symbols are not available because TensorFlow version is less than 1.14\n"
     ]
    }
   ],
   "source": [
    "import pandas as pd\n",
    "import numpy as np\n",
    "import matplotlib.pyplot as plt\n",
    "import os\n",
    "import time\n",
    "\n",
    "# prevent tensorflow from using GPU. Otherwise, run out of memory\n",
    "# https://stackoverflow.com/questions/44552585/prevent-tensorflow-from-accessing-the-gpu\n",
    "# os.environ[\"CUDA_VISIBLE_DEVICES\"]=\"-1\"\n",
    "\n",
    "import tensorflow_hub as hub\n",
    "import tensorflow as tf\n",
    "import nltk\n",
    "import regex as re\n",
    "import emoji as em\n",
    "from sklearn.model_selection import train_test_split\n",
    "\n",
    "\n",
    "elmo = hub.Module(\"https://tfhub.dev/google/elmo/2\")"
   ]
  },
  {
   "cell_type": "code",
   "execution_count": 2,
   "metadata": {},
   "outputs": [
    {
     "data": {
      "text/html": [
       "<div>\n",
       "<style scoped>\n",
       "    .dataframe tbody tr th:only-of-type {\n",
       "        vertical-align: middle;\n",
       "    }\n",
       "\n",
       "    .dataframe tbody tr th {\n",
       "        vertical-align: top;\n",
       "    }\n",
       "\n",
       "    .dataframe thead th {\n",
       "        text-align: right;\n",
       "    }\n",
       "</style>\n",
       "<table border=\"1\" class=\"dataframe\">\n",
       "  <thead>\n",
       "    <tr style=\"text-align: right;\">\n",
       "      <th></th>\n",
       "      <th>text</th>\n",
       "      <th>sent</th>\n",
       "    </tr>\n",
       "  </thead>\n",
       "  <tbody>\n",
       "    <tr>\n",
       "      <th>0</th>\n",
       "      <td>so &lt;user&gt; site crashes everytime i try to book...</td>\n",
       "      <td>-3</td>\n",
       "    </tr>\n",
       "    <tr>\n",
       "      <th>1</th>\n",
       "      <td>theme of week : ask the lord for strength &amp; pe...</td>\n",
       "      <td>-2</td>\n",
       "    </tr>\n",
       "    <tr>\n",
       "      <th>2</th>\n",
       "      <td>&lt;user&gt; why announcing so late , it will be har...</td>\n",
       "      <td>-3</td>\n",
       "    </tr>\n",
       "    <tr>\n",
       "      <th>3</th>\n",
       "      <td>the greatest happiness is seeing someone you l...</td>\n",
       "      <td>3</td>\n",
       "    </tr>\n",
       "    <tr>\n",
       "      <th>4</th>\n",
       "      <td>omg so grateful to have an education but ive b...</td>\n",
       "      <td>1</td>\n",
       "    </tr>\n",
       "  </tbody>\n",
       "</table>\n",
       "</div>"
      ],
      "text/plain": [
       "                                                text  sent\n",
       "0  so <user> site crashes everytime i try to book...    -3\n",
       "1  theme of week : ask the lord for strength & pe...    -2\n",
       "2  <user> why announcing so late , it will be har...    -3\n",
       "3  the greatest happiness is seeing someone you l...     3\n",
       "4  omg so grateful to have an education but ive b...     1"
      ]
     },
     "execution_count": 2,
     "metadata": {},
     "output_type": "execute_result"
    }
   ],
   "source": [
    "# Set path\n",
    "path = '/home/tim/Documents/Sentiment/Data/processed'\n",
    "file1 = '/home/tim/Documents/Sentiment/Data/processed/dev.tsv'\n",
    "\n",
    "\n",
    "col_names = ['text','sent']\n",
    "\n",
    "# Create dataframe\n",
    "df = pd.read_csv(os.path.join(path,file1),delimiter=\"\\t\",names=col_names)\n",
    "df.head()"
   ]
  },
  {
   "cell_type": "code",
   "execution_count": 3,
   "metadata": {},
   "outputs": [
    {
     "data": {
      "text/html": [
       "<div>\n",
       "<style scoped>\n",
       "    .dataframe tbody tr th:only-of-type {\n",
       "        vertical-align: middle;\n",
       "    }\n",
       "\n",
       "    .dataframe tbody tr th {\n",
       "        vertical-align: top;\n",
       "    }\n",
       "\n",
       "    .dataframe thead th {\n",
       "        text-align: right;\n",
       "    }\n",
       "</style>\n",
       "<table border=\"1\" class=\"dataframe\">\n",
       "  <thead>\n",
       "    <tr style=\"text-align: right;\">\n",
       "      <th></th>\n",
       "      <th>text</th>\n",
       "      <th>sent</th>\n",
       "      <th>tokens</th>\n",
       "    </tr>\n",
       "  </thead>\n",
       "  <tbody>\n",
       "    <tr>\n",
       "      <th>0</th>\n",
       "      <td>so &lt;user&gt; site crashes everytime i try to book...</td>\n",
       "      <td>-3</td>\n",
       "      <td>[so, &lt;user&gt;, site, crashes, everytime, i, try,...</td>\n",
       "    </tr>\n",
       "    <tr>\n",
       "      <th>1</th>\n",
       "      <td>theme of week : ask the lord for strength &amp; pe...</td>\n",
       "      <td>-2</td>\n",
       "      <td>[theme, of, week, :, ask, the, lord, for, stre...</td>\n",
       "    </tr>\n",
       "    <tr>\n",
       "      <th>2</th>\n",
       "      <td>&lt;user&gt; why announcing so late , it will be har...</td>\n",
       "      <td>-3</td>\n",
       "      <td>[&lt;user&gt;, why, announcing, so, late, ,, it, wil...</td>\n",
       "    </tr>\n",
       "    <tr>\n",
       "      <th>3</th>\n",
       "      <td>the greatest happiness is seeing someone you l...</td>\n",
       "      <td>3</td>\n",
       "      <td>[the, greatest, happiness, is, seeing, someone...</td>\n",
       "    </tr>\n",
       "    <tr>\n",
       "      <th>4</th>\n",
       "      <td>omg so grateful to have an education but ive b...</td>\n",
       "      <td>1</td>\n",
       "      <td>[omg, so, grateful, to, have, an, education, b...</td>\n",
       "    </tr>\n",
       "  </tbody>\n",
       "</table>\n",
       "</div>"
      ],
      "text/plain": [
       "                                                text  sent  \\\n",
       "0  so <user> site crashes everytime i try to book...    -3   \n",
       "1  theme of week : ask the lord for strength & pe...    -2   \n",
       "2  <user> why announcing so late , it will be har...    -3   \n",
       "3  the greatest happiness is seeing someone you l...     3   \n",
       "4  omg so grateful to have an education but ive b...     1   \n",
       "\n",
       "                                              tokens  \n",
       "0  [so, <user>, site, crashes, everytime, i, try,...  \n",
       "1  [theme, of, week, :, ask, the, lord, for, stre...  \n",
       "2  [<user>, why, announcing, so, late, ,, it, wil...  \n",
       "3  [the, greatest, happiness, is, seeing, someone...  \n",
       "4  [omg, so, grateful, to, have, an, education, b...  "
      ]
     },
     "execution_count": 3,
     "metadata": {},
     "output_type": "execute_result"
    }
   ],
   "source": [
    "# Create tokens with simple split on whitespace\n",
    "def simple_token(s):\n",
    "    return s.split()\n",
    "\n",
    "# Get token length\n",
    "def token_length(s):\n",
    "    return len(s)\n",
    "\n",
    "df['tokens'] = df['text'].apply(simple_token)\n",
    "df.head()"
   ]
  },
  {
   "cell_type": "code",
   "execution_count": 4,
   "metadata": {},
   "outputs": [
    {
     "data": {
      "text/html": [
       "<div>\n",
       "<style scoped>\n",
       "    .dataframe tbody tr th:only-of-type {\n",
       "        vertical-align: middle;\n",
       "    }\n",
       "\n",
       "    .dataframe tbody tr th {\n",
       "        vertical-align: top;\n",
       "    }\n",
       "\n",
       "    .dataframe thead th {\n",
       "        text-align: right;\n",
       "    }\n",
       "</style>\n",
       "<table border=\"1\" class=\"dataframe\">\n",
       "  <thead>\n",
       "    <tr style=\"text-align: right;\">\n",
       "      <th></th>\n",
       "      <th>text</th>\n",
       "      <th>sent</th>\n",
       "      <th>tokens</th>\n",
       "      <th>len</th>\n",
       "    </tr>\n",
       "  </thead>\n",
       "  <tbody>\n",
       "    <tr>\n",
       "      <th>0</th>\n",
       "      <td>so &lt;user&gt; site crashes everytime i try to book...</td>\n",
       "      <td>-3</td>\n",
       "      <td>[so, &lt;user&gt;, site, crashes, everytime, i, try,...</td>\n",
       "      <td>32</td>\n",
       "    </tr>\n",
       "    <tr>\n",
       "      <th>1</th>\n",
       "      <td>theme of week : ask the lord for strength &amp; pe...</td>\n",
       "      <td>-2</td>\n",
       "      <td>[theme, of, week, :, ask, the, lord, for, stre...</td>\n",
       "      <td>28</td>\n",
       "    </tr>\n",
       "    <tr>\n",
       "      <th>2</th>\n",
       "      <td>&lt;user&gt; why announcing so late , it will be har...</td>\n",
       "      <td>-3</td>\n",
       "      <td>[&lt;user&gt;, why, announcing, so, late, ,, it, wil...</td>\n",
       "      <td>24</td>\n",
       "    </tr>\n",
       "    <tr>\n",
       "      <th>3</th>\n",
       "      <td>the greatest happiness is seeing someone you l...</td>\n",
       "      <td>3</td>\n",
       "      <td>[the, greatest, happiness, is, seeing, someone...</td>\n",
       "      <td>17</td>\n",
       "    </tr>\n",
       "    <tr>\n",
       "      <th>4</th>\n",
       "      <td>omg so grateful to have an education but ive b...</td>\n",
       "      <td>1</td>\n",
       "      <td>[omg, so, grateful, to, have, an, education, b...</td>\n",
       "      <td>31</td>\n",
       "    </tr>\n",
       "  </tbody>\n",
       "</table>\n",
       "</div>"
      ],
      "text/plain": [
       "                                                text  sent  \\\n",
       "0  so <user> site crashes everytime i try to book...    -3   \n",
       "1  theme of week : ask the lord for strength & pe...    -2   \n",
       "2  <user> why announcing so late , it will be har...    -3   \n",
       "3  the greatest happiness is seeing someone you l...     3   \n",
       "4  omg so grateful to have an education but ive b...     1   \n",
       "\n",
       "                                              tokens  len  \n",
       "0  [so, <user>, site, crashes, everytime, i, try,...   32  \n",
       "1  [theme, of, week, :, ask, the, lord, for, stre...   28  \n",
       "2  [<user>, why, announcing, so, late, ,, it, wil...   24  \n",
       "3  [the, greatest, happiness, is, seeing, someone...   17  \n",
       "4  [omg, so, grateful, to, have, an, education, b...   31  "
      ]
     },
     "execution_count": 4,
     "metadata": {},
     "output_type": "execute_result"
    }
   ],
   "source": [
    "df['len'] = df['tokens'].apply(token_length)\n",
    "df.head()"
   ]
  },
  {
   "cell_type": "code",
   "execution_count": 5,
   "metadata": {},
   "outputs": [
    {
     "name": "stdout",
     "output_type": "stream",
     "text": [
      "The largest token has length = 65\n",
      "Set max token length = 80 (used for padding)\n"
     ]
    }
   ],
   "source": [
    "# Find the tweet with the longest length\n",
    "print(\"The largest token has length =\", df['len'].max())\n",
    "m = 80\n",
    "print(\"Set max token length =\",m, \"(used for padding)\")"
   ]
  },
  {
   "cell_type": "code",
   "execution_count": 6,
   "metadata": {},
   "outputs": [],
   "source": [
    "# Create \"embedding lists\" of equal size -- pad with empty characters, e.g. \"\"\n",
    "# https://stackoverflow.com/questions/24066904/most-pythonic-way-to-extend-a-list-to-exactly-a-certain-length\n",
    "def pad_list(some_list, target_len):\n",
    "    return some_list[:target_len] + [\"\"]*(target_len - len(some_list))\n",
    "\n",
    "df['tokens'] = df.apply(lambda x: pad_list(x['tokens'],m),axis=1)"
   ]
  },
  {
   "cell_type": "code",
   "execution_count": 7,
   "metadata": {},
   "outputs": [
    {
     "data": {
      "text/html": [
       "<div>\n",
       "<style scoped>\n",
       "    .dataframe tbody tr th:only-of-type {\n",
       "        vertical-align: middle;\n",
       "    }\n",
       "\n",
       "    .dataframe tbody tr th {\n",
       "        vertical-align: top;\n",
       "    }\n",
       "\n",
       "    .dataframe thead th {\n",
       "        text-align: right;\n",
       "    }\n",
       "</style>\n",
       "<table border=\"1\" class=\"dataframe\">\n",
       "  <thead>\n",
       "    <tr style=\"text-align: right;\">\n",
       "      <th></th>\n",
       "      <th>text</th>\n",
       "      <th>sent</th>\n",
       "      <th>tokens</th>\n",
       "      <th>len</th>\n",
       "    </tr>\n",
       "  </thead>\n",
       "  <tbody>\n",
       "    <tr>\n",
       "      <th>0</th>\n",
       "      <td>so &lt;user&gt; site crashes everytime i try to book...</td>\n",
       "      <td>-3</td>\n",
       "      <td>[so, &lt;user&gt;, site, crashes, everytime, i, try,...</td>\n",
       "      <td>32</td>\n",
       "    </tr>\n",
       "    <tr>\n",
       "      <th>1</th>\n",
       "      <td>theme of week : ask the lord for strength &amp; pe...</td>\n",
       "      <td>-2</td>\n",
       "      <td>[theme, of, week, :, ask, the, lord, for, stre...</td>\n",
       "      <td>28</td>\n",
       "    </tr>\n",
       "    <tr>\n",
       "      <th>2</th>\n",
       "      <td>&lt;user&gt; why announcing so late , it will be har...</td>\n",
       "      <td>-3</td>\n",
       "      <td>[&lt;user&gt;, why, announcing, so, late, ,, it, wil...</td>\n",
       "      <td>24</td>\n",
       "    </tr>\n",
       "    <tr>\n",
       "      <th>3</th>\n",
       "      <td>the greatest happiness is seeing someone you l...</td>\n",
       "      <td>3</td>\n",
       "      <td>[the, greatest, happiness, is, seeing, someone...</td>\n",
       "      <td>17</td>\n",
       "    </tr>\n",
       "    <tr>\n",
       "      <th>4</th>\n",
       "      <td>omg so grateful to have an education but ive b...</td>\n",
       "      <td>1</td>\n",
       "      <td>[omg, so, grateful, to, have, an, education, b...</td>\n",
       "      <td>31</td>\n",
       "    </tr>\n",
       "  </tbody>\n",
       "</table>\n",
       "</div>"
      ],
      "text/plain": [
       "                                                text  sent  \\\n",
       "0  so <user> site crashes everytime i try to book...    -3   \n",
       "1  theme of week : ask the lord for strength & pe...    -2   \n",
       "2  <user> why announcing so late , it will be har...    -3   \n",
       "3  the greatest happiness is seeing someone you l...     3   \n",
       "4  omg so grateful to have an education but ive b...     1   \n",
       "\n",
       "                                              tokens  len  \n",
       "0  [so, <user>, site, crashes, everytime, i, try,...   32  \n",
       "1  [theme, of, week, :, ask, the, lord, for, stre...   28  \n",
       "2  [<user>, why, announcing, so, late, ,, it, wil...   24  \n",
       "3  [the, greatest, happiness, is, seeing, someone...   17  \n",
       "4  [omg, so, grateful, to, have, an, education, b...   31  "
      ]
     },
     "execution_count": 7,
     "metadata": {},
     "output_type": "execute_result"
    }
   ],
   "source": [
    "df.head()"
   ]
  },
  {
   "cell_type": "code",
   "execution_count": 8,
   "metadata": {},
   "outputs": [
    {
     "data": {
      "text/plain": [
       "(80,)"
      ]
     },
     "execution_count": 8,
     "metadata": {},
     "output_type": "execute_result"
    }
   ],
   "source": [
    "np.shape(df['tokens'].iloc[0])"
   ]
  },
  {
   "cell_type": "code",
   "execution_count": 25,
   "metadata": {},
   "outputs": [],
   "source": [
    "# Get the elmo embeddings\n",
    "def elmo_tweet_embedder(tokens,len_list):\n",
    "    \n",
    "    tokens_input = tokens #load a tweet\n",
    "    tokens_length = len_list # get length of tweet\n",
    "\n",
    "    #create embedding\n",
    "    embedding_tensor = elmo(inputs={\"tokens\":tokens_input,\"sequence_len\":tokens_length},\n",
    "                            signature=\"tokens\", as_dict=True)[\"word_emb\"] # <-- passing in a list instead of [word]\n",
    "\n",
    "    with tf.Session() as sess:\n",
    "        sess.run(tf.global_variables_initializer())\n",
    "        embedding = sess.run(embedding_tensor)\n",
    "        return embedding\n"
   ]
  },
  {
   "cell_type": "code",
   "execution_count": 12,
   "metadata": {},
   "outputs": [
    {
     "data": {
      "text/html": [
       "<div>\n",
       "<style scoped>\n",
       "    .dataframe tbody tr th:only-of-type {\n",
       "        vertical-align: middle;\n",
       "    }\n",
       "\n",
       "    .dataframe tbody tr th {\n",
       "        vertical-align: top;\n",
       "    }\n",
       "\n",
       "    .dataframe thead th {\n",
       "        text-align: right;\n",
       "    }\n",
       "</style>\n",
       "<table border=\"1\" class=\"dataframe\">\n",
       "  <thead>\n",
       "    <tr style=\"text-align: right;\">\n",
       "      <th></th>\n",
       "      <th>text</th>\n",
       "      <th>sent</th>\n",
       "      <th>tokens</th>\n",
       "      <th>len</th>\n",
       "    </tr>\n",
       "  </thead>\n",
       "  <tbody>\n",
       "    <tr>\n",
       "      <th>0</th>\n",
       "      <td>so &lt;user&gt; site crashes everytime i try to book...</td>\n",
       "      <td>-3</td>\n",
       "      <td>[so, &lt;user&gt;, site, crashes, everytime, i, try,...</td>\n",
       "      <td>32</td>\n",
       "    </tr>\n",
       "    <tr>\n",
       "      <th>1</th>\n",
       "      <td>theme of week : ask the lord for strength &amp; pe...</td>\n",
       "      <td>-2</td>\n",
       "      <td>[theme, of, week, :, ask, the, lord, for, stre...</td>\n",
       "      <td>28</td>\n",
       "    </tr>\n",
       "    <tr>\n",
       "      <th>2</th>\n",
       "      <td>&lt;user&gt; why announcing so late , it will be har...</td>\n",
       "      <td>-3</td>\n",
       "      <td>[&lt;user&gt;, why, announcing, so, late, ,, it, wil...</td>\n",
       "      <td>24</td>\n",
       "    </tr>\n",
       "    <tr>\n",
       "      <th>3</th>\n",
       "      <td>the greatest happiness is seeing someone you l...</td>\n",
       "      <td>3</td>\n",
       "      <td>[the, greatest, happiness, is, seeing, someone...</td>\n",
       "      <td>17</td>\n",
       "    </tr>\n",
       "    <tr>\n",
       "      <th>4</th>\n",
       "      <td>omg so grateful to have an education but ive b...</td>\n",
       "      <td>1</td>\n",
       "      <td>[omg, so, grateful, to, have, an, education, b...</td>\n",
       "      <td>31</td>\n",
       "    </tr>\n",
       "  </tbody>\n",
       "</table>\n",
       "</div>"
      ],
      "text/plain": [
       "                                                text  sent  \\\n",
       "0  so <user> site crashes everytime i try to book...    -3   \n",
       "1  theme of week : ask the lord for strength & pe...    -2   \n",
       "2  <user> why announcing so late , it will be har...    -3   \n",
       "3  the greatest happiness is seeing someone you l...     3   \n",
       "4  omg so grateful to have an education but ive b...     1   \n",
       "\n",
       "                                              tokens  len  \n",
       "0  [so, <user>, site, crashes, everytime, i, try,...   32  \n",
       "1  [theme, of, week, :, ask, the, lord, for, stre...   28  \n",
       "2  [<user>, why, announcing, so, late, ,, it, wil...   24  \n",
       "3  [the, greatest, happiness, is, seeing, someone...   17  \n",
       "4  [omg, so, grateful, to, have, an, education, b...   31  "
      ]
     },
     "execution_count": 12,
     "metadata": {},
     "output_type": "execute_result"
    }
   ],
   "source": [
    "df.head()"
   ]
  },
  {
   "cell_type": "code",
   "execution_count": 51,
   "metadata": {},
   "outputs": [],
   "source": [
    "# Resource to split data into smaller batches: http://bit.ly/2P4J8HJ\n",
    "text_batches = [df['tokens'][i:i+100] for i in range(0,df.shape[0],100)]\n",
    "len_lists = [[m] * len(x) for x in text_batches]\n",
    "\n",
    "# Create list of sentimens (y values)\n",
    "\n",
    "y = df['sent'].to_numpy()"
   ]
  },
  {
   "cell_type": "code",
   "execution_count": 42,
   "metadata": {},
   "outputs": [],
   "source": [
    "embeddings = []\n",
    "for i in range(0,len(text_batches)):\n",
    "    elmo_train = elmo_tweet_embedder(text_batches[i].tolist(),len_lists[i])\n",
    "    embeddings.append(elmo_train)"
   ]
  },
  {
   "cell_type": "code",
   "execution_count": 43,
   "metadata": {},
   "outputs": [
    {
     "name": "stdout",
     "output_type": "stream",
     "text": [
      "(100, 80, 512)\n",
      "(100, 80, 512)\n",
      "(100, 80, 512)\n",
      "(100, 80, 512)\n",
      "(49, 80, 512)\n"
     ]
    }
   ],
   "source": [
    "for x in embeddings:\n",
    "    print(np.shape(x))"
   ]
  },
  {
   "cell_type": "code",
   "execution_count": 44,
   "metadata": {},
   "outputs": [
    {
     "data": {
      "text/plain": [
       "(449, 80, 512)"
      ]
     },
     "execution_count": 44,
     "metadata": {},
     "output_type": "execute_result"
    }
   ],
   "source": [
    "embeddings = np.concatenate(embeddings, axis=0)\n",
    "np.shape(embeddings)"
   ]
  },
  {
   "cell_type": "code",
   "execution_count": 50,
   "metadata": {},
   "outputs": [
    {
     "data": {
      "text/plain": [
       "numpy.ndarray"
      ]
     },
     "execution_count": 50,
     "metadata": {},
     "output_type": "execute_result"
    }
   ],
   "source": [
    "type(embeddings)"
   ]
  },
  {
   "cell_type": "code",
   "execution_count": null,
   "metadata": {},
   "outputs": [],
   "source": []
  }
 ],
 "metadata": {
  "kernelspec": {
   "display_name": "TensorFlow-GPU",
   "language": "python",
   "name": "tf-gpu"
  },
  "language_info": {
   "codemirror_mode": {
    "name": "ipython",
    "version": 3
   },
   "file_extension": ".py",
   "mimetype": "text/x-python",
   "name": "python",
   "nbconvert_exporter": "python",
   "pygments_lexer": "ipython3",
   "version": "3.6.8"
  }
 },
 "nbformat": 4,
 "nbformat_minor": 2
}
