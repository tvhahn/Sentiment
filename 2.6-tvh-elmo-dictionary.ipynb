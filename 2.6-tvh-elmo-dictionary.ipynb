{
 "cells": [
  {
   "cell_type": "code",
   "execution_count": 1,
   "metadata": {},
   "outputs": [
    {
     "name": "stderr",
     "output_type": "stream",
     "text": [
      "WARNING: Logging before flag parsing goes to stderr.\n",
      "W0415 17:04:47.558882 139878782445376 __init__.py:56] Some hub symbols are not available because TensorFlow version is less than 1.14\n"
     ]
    }
   ],
   "source": [
    "import pandas as pd\n",
    "import numpy as np\n",
    "import matplotlib.pyplot as plt\n",
    "import os\n",
    "import pickle\n",
    "\n",
    "# prevent tensorflow from using GPU. Otherwise, run out of memory\n",
    "# https://stackoverflow.com/questions/44552585/prevent-tensorflow-from-accessing-the-gpu\n",
    "# os.environ[\"CUDA_VISIBLE_DEVICES\"]=\"-1\"\n",
    "\n",
    "import tensorflow_hub as hub\n",
    "import tensorflow as tf\n",
    "\n",
    "import nltk\n",
    "import regex as re\n",
    "import emoji as em\n",
    "\n",
    "import itertools as it\n",
    "\n",
    "elmo = hub.Module(\"https://tfhub.dev/google/elmo/2\")"
   ]
  },
  {
   "cell_type": "code",
   "execution_count": 2,
   "metadata": {},
   "outputs": [],
   "source": [
    "# FUNCTIONS\n",
    "\n",
    "# process tweet\n",
    "def preprocess(tweet):\n",
    "    #define hashtag pattern\n",
    "    hashtag_define = re.compile ('#')\n",
    "    #define mention pattern \n",
    "    mentions_define = re.compile('@[^\\s]+')\n",
    "    #define link pattern\n",
    "    link_define = re.compile('https?://[^\\s]+')\n",
    "    # Haystack define\n",
    "    haystack_define = re.compile('(RT)')\n",
    "    # define long spaces\n",
    "    extra_spaces_define = re.compile('\\s{2,}')\n",
    "    #remove hashtags\n",
    "    tweet_refine = hashtag_define.sub('',tweet)\n",
    "    # remove mentions\n",
    "    tweet_refine = mentions_define.sub('',tweet_refine)\n",
    "    # remove links\n",
    "    tweet_refine = link_define.sub('',tweet_refine)\n",
    "    # remove haystack\n",
    "    tweet_refine = haystack_define.sub('',tweet_refine)\n",
    "    #replace long spaces with one space\n",
    "    tweet_refine = extra_spaces_define.sub(' ',tweet_refine)\n",
    "    # convert emoticons into words\n",
    "    tweet_refine = em.demojize(tweet_refine)\n",
    "    return tweet_refine\n",
    "\n",
    "# Create tokens with simple split on whitespace\n",
    "def simple_token(s):\n",
    "    return s.split()\n",
    "\n",
    "# Get token length\n",
    "def token_length(s):\n",
    "    return len(s)\n",
    "\n",
    "# Create \"embedding lists\" of equal size -- pad with empty characters, e.g. \"\"\n",
    "# https://stackoverflow.com/questions/24066904/most-pythonic-way-to-extend-a-list-to-exactly-a-certain-length\n",
    "def pad_list(some_list, target_len):\n",
    "    return some_list[:target_len] + [\"\"]*(target_len - len(some_list))\n",
    "\n",
    "# Get the elmo embeddings\n",
    "def elmo_tweet_embedder(tokens,len_list):\n",
    "    \n",
    "    tokens_input = tokens #load a tweet\n",
    "    tokens_length = len_list # get length of tweet\n",
    "\n",
    "    #create embedding\n",
    "    embedding_tensor = elmo(inputs={\"tokens\":tokens_input,\"sequence_len\":tokens_length},\n",
    "                            signature=\"tokens\", as_dict=True)[\"word_emb\"] # <-- passing in a list instead of [word]\n",
    "\n",
    "    with tf.Session() as sess:\n",
    "        sess.run(tf.global_variables_initializer())\n",
    "        embedding = sess.run(embedding_tensor)\n",
    "        return embedding\n",
    "\n",
    "# combine all together\n",
    "def make_embeddings(df, max_seq_len):\n",
    "    m = max_seq_len\n",
    "    \n",
    "    # create a token column in df\n",
    "    df['tokens'] = df['text'].apply(simple_token)\n",
    "    print(\"Token creation complete\")\n",
    "    \n",
    "    # pad the tokens\n",
    "    df['tokens'] = df.apply(lambda x: pad_list(x['tokens'],m),axis=1)\n",
    "    print(\"Token padding complete\")\n",
    "    \n",
    "    # split data into smaller batches of size 100. http://bit.ly/2P4J8HJ\n",
    "    text_batches = [df['tokens'][i:i+7000] for i in range(0,df.shape[0],7000)]\n",
    "    len_lists = [[m] * len(x) for x in text_batches]\n",
    "\n",
    "    # create list of sentiments (y values)\n",
    "    y = df['sent'].to_numpy()\n",
    "    \n",
    "    # make embeddings\n",
    "    embeddings = []\n",
    "    for i in range(0,len(text_batches)):\n",
    "        print(\"batch\",i)\n",
    "        elmo_train = elmo_tweet_embedder(text_batches[i].tolist(),len_lists[i])\n",
    "        embeddings.append(elmo_train)\n",
    "        \n",
    "    embeddings = np.concatenate(embeddings, axis=0)\n",
    "    \n",
    "    return embeddings, y"
   ]
  },
  {
   "cell_type": "code",
   "execution_count": 3,
   "metadata": {
    "scrolled": true
   },
   "outputs": [
    {
     "data": {
      "text/html": [
       "<div>\n",
       "<style scoped>\n",
       "    .dataframe tbody tr th:only-of-type {\n",
       "        vertical-align: middle;\n",
       "    }\n",
       "\n",
       "    .dataframe tbody tr th {\n",
       "        vertical-align: top;\n",
       "    }\n",
       "\n",
       "    .dataframe thead th {\n",
       "        text-align: right;\n",
       "    }\n",
       "</style>\n",
       "<table border=\"1\" class=\"dataframe\">\n",
       "  <thead>\n",
       "    <tr style=\"text-align: right;\">\n",
       "      <th></th>\n",
       "      <th>sent</th>\n",
       "      <th>text</th>\n",
       "    </tr>\n",
       "  </thead>\n",
       "  <tbody>\n",
       "    <tr>\n",
       "      <th>0</th>\n",
       "      <td>&lt;user&gt;</td>\n",
       "      <td>&lt;user&gt;</td>\n",
       "    </tr>\n",
       "    <tr>\n",
       "      <th>1</th>\n",
       "      <td>.</td>\n",
       "      <td>.</td>\n",
       "    </tr>\n",
       "    <tr>\n",
       "      <th>2</th>\n",
       "      <td>:</td>\n",
       "      <td>:</td>\n",
       "    </tr>\n",
       "    <tr>\n",
       "      <th>3</th>\n",
       "      <td>rt</td>\n",
       "      <td>rt</td>\n",
       "    </tr>\n",
       "    <tr>\n",
       "      <th>4</th>\n",
       "      <td>,</td>\n",
       "      <td>,</td>\n",
       "    </tr>\n",
       "  </tbody>\n",
       "</table>\n",
       "</div>"
      ],
      "text/plain": [
       "     sent    text\n",
       "0  <user>  <user>\n",
       "1       .       .\n",
       "2       :       :\n",
       "3      rt      rt\n",
       "4       ,       ,"
      ]
     },
     "execution_count": 3,
     "metadata": {},
     "output_type": "execute_result"
    }
   ],
   "source": [
    "#ORIGINAL\n",
    "\n",
    "# path = '/home/tim/Documents/Sentiment/Data/dictionary_raw'\n",
    "# file = 'vocab_complete.txt'\n",
    "\n",
    "path = '/home/tim/Documents/Sentiment/Data/dictionary_raw'\n",
    "file = 'text.txt'\n",
    "\n",
    "p = os.path.join(path,file)\n",
    "\n",
    "# open file\n",
    "f = open(p, \"r\")\n",
    "lines = f.readlines()\n",
    "\n",
    "#remove new line symbol\n",
    "l=[]\n",
    "for x in lines:\n",
    "    x = x.rstrip(\"\\n\")\n",
    "    l.append(x)\n",
    "    \n",
    "# create df\n",
    "col_names = ['sent']\n",
    "df = pd.DataFrame(l,columns=col_names)\n",
    "df['text']=df['sent']\n",
    "f.close()\n",
    "df.head()"
   ]
  },
  {
   "cell_type": "code",
   "execution_count": 4,
   "metadata": {},
   "outputs": [
    {
     "data": {
      "text/plain": [
       "33"
      ]
     },
     "execution_count": 4,
     "metadata": {},
     "output_type": "execute_result"
    }
   ],
   "source": [
    "len(df['sent'])"
   ]
  },
  {
   "cell_type": "code",
   "execution_count": 5,
   "metadata": {},
   "outputs": [
    {
     "name": "stdout",
     "output_type": "stream",
     "text": [
      "Token creation complete\n",
      "Token padding complete\n",
      "batch 0\n"
     ]
    }
   ],
   "source": [
    "X, y = make_embeddings(df, 1)\n",
    "d = dict()\n",
    "for i in range(len(y)):\n",
    "    d[y[i]] = X[i][0]"
   ]
  },
  {
   "cell_type": "code",
   "execution_count": 6,
   "metadata": {},
   "outputs": [],
   "source": [
    "# Create Pickles\n",
    "pickle_path = '/home/tim/Documents/Sentiment/Data/pickles'\n",
    "\n",
    "# elmo embeddings\n",
    "pickle_out = open(os.path.join(pickle_path,'elmo_embeddings.pickle'),\"wb\")\n",
    "pickle.dump(d,pickle_out)\n",
    "pickle_out.close()"
   ]
  }
 ],
 "metadata": {
  "kernelspec": {
   "display_name": "TensorFlow-GPU",
   "language": "python",
   "name": "tf-gpu"
  },
  "language_info": {
   "codemirror_mode": {
    "name": "ipython",
    "version": 3
   },
   "file_extension": ".py",
   "mimetype": "text/x-python",
   "name": "python",
   "nbconvert_exporter": "python",
   "pygments_lexer": "ipython3",
   "version": "3.6.8"
  }
 },
 "nbformat": 4,
 "nbformat_minor": 2
}
