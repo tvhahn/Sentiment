{
 "cells": [
  {
   "cell_type": "code",
   "execution_count": 1,
   "metadata": {},
   "outputs": [],
   "source": [
    "import tweepy\n",
    "from tweepy import Stream\n",
    "from tweepy.streaming import StreamListener\n",
    "from tweepy import OAuthHandler\n",
    " \n",
    "consumer_key = 'QMVyK39ZrZ7G6q8qECKx9zHjx'\n",
    "consumer_secret = 'iOfdLzfdceYqZeI4XlbZPXruqSc1pWpA3hmcTCVpgLOlamvBDG'\n",
    "access_token = '244792775-pQrpGYOLYn5OYW19Rv19X6hRC1zMNkwEzJZg13Kc'\n",
    "access_secret = 'Ex7k9unZzrQ69NQvyhMJQkDvreWErkpzvNM5nGrQRCYqS'\n",
    " \n",
    "auth = OAuthHandler(consumer_key, consumer_secret)\n",
    "auth.set_access_token(access_token, access_secret)\n",
    " \n",
    "api = tweepy.API(auth)"
   ]
  },
  {
   "cell_type": "code",
   "execution_count": null,
   "metadata": {},
   "outputs": [],
   "source": [
    "# Used to stream tweets and download into JSON file\n",
    "class MyListener(StreamListener):\n",
    " \n",
    "    def on_data(self, data):\n",
    "        try:\n",
    "            with open('happy.json', 'a') as f:\n",
    "                f.write(data)\n",
    "                return True\n",
    "        except BaseException as e:\n",
    "            print(\"Error on_data: %s\" % str(e))\n",
    "        return True\n",
    " \n",
    "    def on_error(self, status):\n",
    "        print(status)\n",
    "        return True\n",
    " \n",
    "twitter_stream = Stream(auth, MyListener())\n",
    "twitter_stream.filter(track=['#happy'])"
   ]
  },
  {
   "cell_type": "code",
   "execution_count": 2,
   "metadata": {},
   "outputs": [
    {
     "name": "stdout",
     "output_type": "stream",
     "text": [
      "Postdoc salaries as low as €5,000 in Eastern Europe, four questions lingering from the CRISPR-baby scandal and how… https://t.co/OJAYPW58AI\n",
      "*The hearing is taking a break.* \n",
      "\n",
      "So you all probably want to rewatch Cohen's opening testimony: https://t.co/NZ3DLpLHF4\n",
      "Someone should probably do this: https://t.co/YZg3zta7fU\n",
      "RT @muellerberndt: Exactly 2.000% of the ETH supply are now locked in @MakerDAO https://t.co/diIVnYGug3\n",
      "\"The New Contours of Cyber Conflict,\" the latest from Paul Rosenzweig: https://t.co/P8njZLebY5\n",
      "Former Trump attorney Michael Cohen: “When Mr. Trump turned around early in the campaign and said, ‘I can shoot som… https://t.co/gfib2gB5ah\n",
      "Via Star editor @EdTubb, here's the updated chart of Trump's false claims by week: https://t.co/so2PUVbdAd\n",
      "I just published \"The TessaB Ecosystem\" https://t.co/pWnxuml3aB\n",
      "\n",
      "@tessabplatform is building a blockchain-based sec… https://t.co/6EtoJlcUK6\n",
      "Trump is up to 4,445 false claims as president, 5.8 per day. Here's my complete database, sortable by category: https://t.co/tUlVsaIQoY\n",
      "🚨 If you haven't heard about #ACDeclaration, we recommend watching the video to gain an understanding of why we've… https://t.co/0msRIPcMzJ\n"
     ]
    }
   ],
   "source": [
    "# find what tweets on my home page\n",
    "for status in tweepy.Cursor(api.home_timeline).items(10):\n",
    "    # Process a single status\n",
    "    print(status.text)"
   ]
  },
  {
   "cell_type": "code",
   "execution_count": null,
   "metadata": {},
   "outputs": [],
   "source": []
  }
 ],
 "metadata": {
  "kernelspec": {
   "display_name": "TensorFlow-GPU",
   "language": "python",
   "name": "tf-gpu"
  },
  "language_info": {
   "codemirror_mode": {
    "name": "ipython",
    "version": 3
   },
   "file_extension": ".py",
   "mimetype": "text/x-python",
   "name": "python",
   "nbconvert_exporter": "python",
   "pygments_lexer": "ipython3",
   "version": "3.6.8"
  }
 },
 "nbformat": 4,
 "nbformat_minor": 2
}
